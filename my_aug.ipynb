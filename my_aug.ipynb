{
 "cells": [
  {
   "cell_type": "code",
   "execution_count": 2,
   "metadata": {},
   "outputs": [],
   "source": [
    "import os\n",
    "import glob\n",
    "import random\n",
    "import cv2\n",
    "import numpy as np\n",
    "import torch\n",
    "from torch.utils.data import Dataset\n",
    "import imgaug.augmenters as iaa\n",
    "import matplotlib.pyplot as plt"
   ]
  },
  {
   "cell_type": "code",
   "execution_count": 7,
   "metadata": {},
   "outputs": [
    {
     "data": {
      "text/plain": [
       "<matplotlib.image.AxesImage at 0x1a35d3c91c8>"
      ]
     },
     "execution_count": 7,
     "metadata": {},
     "output_type": "execute_result"
    },
    {
     "data": {
      "image/png": "[encoded data removed]",
      "text/plain": [
       "<Figure size 432x288 with 1 Axes>"
      ]
     },
     "metadata": {
      "needs_background": "light"
     },
     "output_type": "display_data"
    }
   ],
   "source": [
    "\n",
    "pic_up = cv2.imread(\"data/1.png\")\n",
    "plt.imshow(pic_up)"
   ]
  },
  {
   "cell_type": "code",
   "execution_count": 48,
   "metadata": {},
   "outputs": [
    {
     "data": {
      "text/plain": [
       "<matplotlib.image.AxesImage at 0x1a360233c08>"
      ]
     },
     "execution_count": 48,
     "metadata": {},
     "output_type": "execute_result"
    },
    {
     "data": {
      "image/png": "[encoded data removed]",
      "text/plain": [
       "<Figure size 432x288 with 1 Axes>"
      ]
     },
     "metadata": {
      "needs_background": "light"
     },
     "output_type": "display_data"
    }
   ],
   "source": [
    "pic_back = cv2.imread(\"0.png\")\n",
    "plt.imshow(pic_back)"
   ]
  },
  {
   "cell_type": "code",
   "execution_count": 18,
   "metadata": {},
   "outputs": [
    {
     "data": {
      "text/plain": [
       "<matplotlib.image.AxesImage at 0x1a35d5fc7c8>"
      ]
     },
     "execution_count": 18,
     "metadata": {},
     "output_type": "execute_result"
    },
    {
     "data": {
      "image/png": "[encoded data removed]",
      "text/plain": [
       "<Figure size 432x288 with 1 Axes>"
      ]
     },
     "metadata": {
      "needs_background": "light"
     },
     "output_type": "display_data"
    }
   ],
   "source": [
    "def my_aug_up(img):\n",
    "    seq = iaa.Sequential([\n",
    "        iaa.Fliplr(0.5),\n",
    "    ])\n",
    "    imgs = np.expand_dims(img,0)\n",
    "    imgs = seq.augment_images(imgs) \n",
    "    return imgs[0]\n",
    "\n",
    "pic = my_aug_up(pic_up)\n",
    "plt.imshow(pic)"
   ]
  },
  {
   "cell_type": "code",
   "execution_count": 31,
   "metadata": {},
   "outputs": [
    {
     "data": {
      "text/plain": [
       "<matplotlib.image.AxesImage at 0x1a35fb2aac8>"
      ]
     },
     "execution_count": 31,
     "metadata": {},
     "output_type": "execute_result"
    },
    {
     "data": {
      "image/png": "[encoded data removed]",
      "text/plain": [
       "<Figure size 432x288 with 1 Axes>"
      ]
     },
     "metadata": {
      "needs_background": "light"
     },
     "output_type": "display_data"
    }
   ],
   "source": [
    "def my_aug_back(img):\n",
    "    seq = iaa.Sequential([\n",
    "        iaa.Fliplr(0.5),\n",
    "        iaa.Affine(\n",
    "            scale={\"x\": (0.8, 1.2), \"y\": (0.8, 1.2)},\n",
    "            translate_percent={\"x\": (-0.5, 0.5), \"y\": (-0.5, 0.5)},\n",
    "            rotate=(-10, 10),\n",
    "            shear=(-15, 15),\n",
    "            order=[0, 1],  # use nearest neighbour or bilinear interpolation (fast)\n",
    "            fit_output=True,\n",
    "            cval=255,# if mode is constant, use a cval between 0 and 255\n",
    "            mode='edge'\n",
    "        ),\n",
    "    ], random_order=True)\n",
    "    \n",
    "    imgs = np.expand_dims(img,0)\n",
    "    imgs = seq.augment_images(imgs) \n",
    "    return imgs[0]\n",
    "\n",
    "pic = my_aug_back(pic_back)\n",
    "plt.imshow(pic)"
   ]
  },
  {
   "cell_type": "code",
   "execution_count": 33,
   "metadata": {},
   "outputs": [],
   "source": [
    "def cal_iou(bbox1, bbox2):\n",
    "    cx1, cy1, cx2, cy2 = bbox1\n",
    "    gx1, gy1, gx2, gy2 = bbox2\n",
    "\n",
    "    carea = (cx2 - cx1 + 1) * (cy2 - cy1 + 1)  # C\\B5\\C4\\C3\\E6\\BB\\FD\n",
    "    garea = (gx2 - gx1 + 1) * (gy2 - gy1 + 1)  # G\\B5\\C4\\C3\\E6\\BB\\FD\n",
    "\n",
    "    x1 = max(cx1, gx1)\n",
    "    y1 = max(cy1, gy1)\n",
    "    x2 = min(cx2, gx2)\n",
    "    y2 = min(cy2, gy2)\n",
    "    w = max(0, x2 - x1 + 1)\n",
    "    h = max(0, y2 - y1 + 1)\n",
    "    area = w * h  # C\\A1\\C9G\\B5\\C4\\C3\\E6\\BB\\FD\n",
    "    iou = area / (carea + garea - area)\n",
    "    return iou"
   ]
  },
  {
   "cell_type": "code",
   "execution_count": 45,
   "metadata": {},
   "outputs": [],
   "source": [
    "def merge(scale_fit, imgt, imgb, bboxes=[], tryTimes=10):\n",
    "    bboxes = np.array(bboxes)\n",
    "    ht, wt, _ = imgt.shape  # top\n",
    "    hb, wb, _ = imgb.shape  # bottom\n",
    "\n",
    "    wtr = int(wt * scale_fit)\n",
    "    htr = int(ht * scale_fit)\n",
    "    imgtr = cv2.resize(imgt, (wtr, htr), interpolation=cv2.INTER_AREA)\n",
    "\n",
    "    if len(bboxes) == 0:\n",
    "        x0 = random.randint(0, wb - wtr)\n",
    "        y0 = random.randint(0, hb - htr)\n",
    "        bboxNew = np.array([x0, y0, x0 + wtr, y0 + htr])\n",
    "        bboxes = np.array([bboxNew])\n",
    "\n",
    "        imgbCut = imgb[y0:y0 + htr, x0:x0 + wtr]\n",
    "        imgtr[imgtr == 255] = imgbCut[imgtr == 255]\n",
    "        # imgb[y0:y0 + htr, x0:x0 + wtr] = cv2.addWeighted(imgtr, bright, imgbCut, 1 - bright, 0)\n",
    "        imgb[y0:y0 + htr, x0:x0 + wtr] = imgtr\n",
    "        return imgb, bboxes\n",
    "\n",
    "    for i in range(tryTimes):\n",
    "        x0 = random.randint(0, wb - wtr)\n",
    "        y0 = random.randint(0, hb - htr)\n",
    "        bboxNew = np.array([x0, y0, x0 + wtr, y0 + htr])\n",
    "        for bbox in bboxes:\n",
    "            iou = cal_iou(bbox, bboxNew)\n",
    "            if iou > 0:\n",
    "                break\n",
    "        if i == tryTimes - 1:\n",
    "            return imgb, bboxes\n",
    "        if iou <= 0:\n",
    "            bboxes = np.row_stack([bboxes, bboxNew])\n",
    "            imgbCut = imgb[y0:y0 + htr, x0:x0 + wtr]\n",
    "            imgtr[imgtr == 255] = imgbCut[imgtr == 255]\n",
    "            # imgb[y0:y0 + htr, x0:x0 + wtr] = cv2.addWeighted(imgtr, bright, imgbCut, 1 - bright, 0)\n",
    "            imgb[y0:y0 + htr, x0:x0 + wtr] = imgtr\n",
    "            return imgb, bboxes"
   ]
  },
  {
   "cell_type": "code",
   "execution_count": 50,
   "metadata": {},
   "outputs": [
    {
     "data": {
      "text/plain": [
       "<matplotlib.image.AxesImage at 0x1a3612f4888>"
      ]
     },
     "execution_count": 50,
     "metadata": {},
     "output_type": "execute_result"
    },
    {
     "data": {
      "image/png": "[encoded data removed]",
      "text/plain": [
       "<Figure size 432x288 with 1 Axes>"
      ]
     },
     "metadata": {
      "needs_background": "light"
     },
     "output_type": "display_data"
    }
   ],
   "source": [
    "pic_back, boxes = merge(scale_fit=1.0, imgt=pic_up, imgb=pic_back, bboxes=boxes)\n",
    "plt.imshow(pic_back)"
   ]
  },
  {
   "cell_type": "code",
   "execution_count": 51,
   "metadata": {},
   "outputs": [
    {
     "name": "stdout",
     "output_type": "stream",
     "text": [
      "[[511  11 616  39]\n",
      " [117 189 222 217]\n",
      " [299  82 404 110]\n",
      " [321 312 426 340]]\n"
     ]
    },
    {
     "data": {
      "image/png": "[encoded data removed]",
      "text/plain": [
       "<Figure size 432x288 with 1 Axes>"
      ]
     },
     "metadata": {
      "needs_background": "light"
     },
     "output_type": "display_data"
    }
   ],
   "source": [
    "plt.imshow(pic_back)\n",
    "print(boxes)"
   ]
  },
  {
   "cell_type": "code",
   "execution_count": null,
   "metadata": {},
   "outputs": [],
   "source": []
  }
 ],
 "metadata": {
  "kernelspec": {
   "display_name": "Python 3",
   "language": "python",
   "name": "python3"
  },
  "language_info": {
   "codemirror_mode": {
    "name": "ipython",
    "version": 3
   },
   "file_extension": ".py",
   "mimetype": "text/x-python",
   "name": "python",
   "nbconvert_exporter": "python",
   "pygments_lexer": "ipython3",
   "version": "3.7.9"
  }
 },
 "nbformat": 4,
 "nbformat_minor": 4
}
